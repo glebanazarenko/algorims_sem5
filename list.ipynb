{
 "cells": [
  {
   "cell_type": "markdown",
   "metadata": {},
   "source": [
    "Есть вложенные списки (5-6 списков из чисел). Попробуйте 2 способами найти максимальный элемент в списке."
   ]
  },
  {
   "cell_type": "code",
   "execution_count": 1,
   "metadata": {},
   "outputs": [
    {
     "name": "stdout",
     "output_type": "stream",
     "text": [
      "Максимальный элемент: 9\n"
     ]
    }
   ],
   "source": [
    "nested_lists = [\n",
    "    [1, 2, 3],\n",
    "    [4, 5, 6],\n",
    "    [7, 8, 9]\n",
    "]\n",
    "\n",
    "max_element = float('-inf')\n",
    "\n",
    "for sublist in nested_lists:\n",
    "    for number in sublist:\n",
    "        if number > max_element:\n",
    "            max_element = number\n",
    "\n",
    "print(\"Максимальный элемент:\", max_element)"
   ]
  },
  {
   "cell_type": "code",
   "execution_count": 2,
   "metadata": {},
   "outputs": [
    {
     "name": "stdout",
     "output_type": "stream",
     "text": [
      "Максимальный элемент: 9\n"
     ]
    }
   ],
   "source": [
    "nested_lists = [\n",
    "    [1, 2, 3],\n",
    "    [4, 5, 6],\n",
    "    [7, 8, 9]\n",
    "]\n",
    "\n",
    "flat_list = [number for sublist in nested_lists for number in sublist]\n",
    "\n",
    "max_element = max(flat_list)\n",
    "\n",
    "print(\"Максимальный элемент:\", max_element)"
   ]
  },
  {
   "cell_type": "markdown",
   "metadata": {},
   "source": [
    "Есть вложенный список. Нужно в каждом вложенным списке поменять местами первый и последний элемент"
   ]
  },
  {
   "cell_type": "code",
   "execution_count": 3,
   "metadata": {},
   "outputs": [
    {
     "name": "stdout",
     "output_type": "stream",
     "text": [
      "[[4, 2, 3, 1], [8, 6, 7, 5], [12, 10, 11, 9]]\n"
     ]
    }
   ],
   "source": [
    "nested_lists = [\n",
    "    [1, 2, 3, 4],\n",
    "    [5, 6, 7, 8],\n",
    "    [9, 10, 11, 12]\n",
    "]\n",
    "\n",
    "for sublist in nested_lists:\n",
    "    if len(sublist) >= 2:\n",
    "        sublist[0], sublist[-1] = sublist[-1], sublist[0]\n",
    "\n",
    "print(nested_lists)"
   ]
  },
  {
   "cell_type": "markdown",
   "metadata": {},
   "source": [
    "\n",
    "Найти отношения суммы всех элемент на число элементов во всем вложенном списке"
   ]
  },
  {
   "cell_type": "code",
   "execution_count": 7,
   "metadata": {},
   "outputs": [
    {
     "name": "stdout",
     "output_type": "stream",
     "text": [
      "Отношение суммы элементов к числу элементов: 0.8333333333333334\n",
      "Отношение суммы элементов к числу элементов: 2.1666666666666665\n",
      "Отношение суммы элементов к числу элементов: 3.5\n"
     ]
    }
   ],
   "source": [
    "nested_lists = [\n",
    "    [1, 2, 3, 4],\n",
    "    [5, 6, 7, 8],\n",
    "    [9, 10, 11, 12]\n",
    "]\n",
    "\n",
    "total_elements = sum(len(sublist) for sublist in nested_lists)\n",
    "\n",
    "for sublist in nested_lists:\n",
    "    ratio = sum(sublist) / total_elements\n",
    "    print(\"Отношение суммы элементов к числу элементов:\", ratio)"
   ]
  }
 ],
 "metadata": {
  "kernelspec": {
   "display_name": "Python 3",
   "language": "python",
   "name": "python3"
  },
  "language_info": {
   "codemirror_mode": {
    "name": "ipython",
    "version": 3
   },
   "file_extension": ".py",
   "mimetype": "text/x-python",
   "name": "python",
   "nbconvert_exporter": "python",
   "pygments_lexer": "ipython3",
   "version": "3.11.2"
  },
  "orig_nbformat": 4
 },
 "nbformat": 4,
 "nbformat_minor": 2
}
