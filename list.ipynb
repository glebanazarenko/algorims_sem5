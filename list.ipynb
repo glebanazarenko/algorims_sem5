{
 "cells": [
  {
   "cell_type": "markdown",
   "metadata": {},
   "source": [
    "Есть вложенные списки (5-6 списков из чисел). Попробуйте 2 способами найти максимальный элемент в списке."
   ]
  },
  {
   "cell_type": "code",
   "execution_count": 1,
   "metadata": {},
   "outputs": [
    {
     "name": "stdout",
     "output_type": "stream",
     "text": [
      "Максимальный элемент: 9\n"
     ]
    }
   ],
   "source": [
    "nested_lists = [\n",
    "    [1, 2, 3],\n",
    "    [4, 5, 6],\n",
    "    [7, 8, 9]\n",
    "]\n",
    "\n",
    "max_element = float('-inf')\n",
    "\n",
    "for sublist in nested_lists:\n",
    "    for number in sublist:\n",
    "        if number > max_element:\n",
    "            max_element = number\n",
    "\n",
    "print(\"Максимальный элемент:\", max_element)"
   ]
  },
  {
   "cell_type": "code",
   "execution_count": 2,
   "metadata": {},
   "outputs": [
    {
     "name": "stdout",
     "output_type": "stream",
     "text": [
      "Максимальный элемент: 9\n"
     ]
    }
   ],
   "source": [
    "nested_lists = [\n",
    "    [1, 2, 3],\n",
    "    [4, 5, 6],\n",
    "    [7, 8, 9]\n",
    "]\n",
    "\n",
    "flat_list = [number for sublist in nested_lists for number in sublist]\n",
    "\n",
    "max_element = max(flat_list)\n",
    "\n",
    "print(\"Максимальный элемент:\", max_element)"
   ]
  },
  {
   "cell_type": "markdown",
   "metadata": {},
   "source": [
    "Есть вложенный список. Нужно в каждом вложенным списке поменять местами первый и последний элемент"
   ]
  },
  {
   "cell_type": "code",
   "execution_count": 3,
   "metadata": {},
   "outputs": [
    {
     "name": "stdout",
     "output_type": "stream",
     "text": [
      "[[4, 2, 3, 1], [8, 6, 7, 5], [12, 10, 11, 9]]\n"
     ]
    }
   ],
   "source": [
    "nested_lists = [\n",
    "    [1, 2, 3, 4],\n",
    "    [5, 6, 7, 8],\n",
    "    [9, 10, 11, 12]\n",
    "]\n",
    "\n",
    "for sublist in nested_lists:\n",
    "    if len(sublist) >= 2:\n",
    "        sublist[0], sublist[-1] = sublist[-1], sublist[0]\n",
    "\n",
    "print(nested_lists)"
   ]
  },
  {
   "cell_type": "markdown",
   "metadata": {},
   "source": [
    "\n",
    "Найти отношения суммы всех элемент на число элементов во всем вложенном списке"
   ]
  },
  {
   "cell_type": "code",
   "execution_count": 7,
   "metadata": {},
   "outputs": [
    {
     "name": "stdout",
     "output_type": "stream",
     "text": [
      "Отношение суммы элементов к числу элементов: 0.8333333333333334\n",
      "Отношение суммы элементов к числу элементов: 2.1666666666666665\n",
      "Отношение суммы элементов к числу элементов: 3.5\n"
     ]
    }
   ],
   "source": [
    "nested_lists = [\n",
    "    [1, 2, 3, 4],\n",
    "    [5, 6, 7, 8],\n",
    "    [9, 10, 11, 12]\n",
    "]\n",
    "\n",
    "total_elements = sum(len(sublist) for sublist in nested_lists)\n",
    "\n",
    "for sublist in nested_lists:\n",
    "    ratio = sum(sublist) / total_elements\n",
    "    print(\"Отношение суммы элементов к числу элементов:\", ratio)"
   ]
  },
  {
   "cell_type": "markdown",
   "metadata": {},
   "source": [
    "есть список\n",
    "``[1,2,[3,4,[5,6],5],4,3]``\n",
    "превратить\n",
    "``[1,2,[3,4,[5,6, 70],5],4,3]``\n",
    "потом\n",
    "``[1,2,[3,4,[5,6, 70],60,5],4,3]``\n",
    "потом\n",
    "``[1,2,[3,4,[5,6, 70, 80, 90, 100],60,5],4,3]``\n",
    "выводить результат на каждом этапе"
   ]
  },
  {
   "cell_type": "code",
   "execution_count": 5,
   "metadata": {},
   "outputs": [
    {
     "name": "stdout",
     "output_type": "stream",
     "text": [
      "[1, 2, [3, 4, [5, 6, 70], 5], 4, 3]\n",
      "[1, 2, [3, 4, [5, 6, 70], 60, 5], 4, 3]\n",
      "[1, 2, [3, 4, [5, 6, 70, 80, 90, 100], 60, 5], 4, 3]\n"
     ]
    }
   ],
   "source": [
    "my_list = [1, 2, [3, 4, [5, 6], 5], 4, 3]\n",
    "my_list[2][2].append(70)\n",
    "print(my_list)\n",
    "my_list[2].insert(3, 60)\n",
    "print(my_list)\n",
    "my_list[2][2].extend([80, 90, 100])\n",
    "print(my_list)"
   ]
  },
  {
   "cell_type": "markdown",
   "metadata": {},
   "source": [
    "Напишите программу, которая создает и выводит построчно список\n",
    "```[[1,2,...,n], [1,2,...,n], ..., [1,2,...,n]]```\n",
    "```[[1],[1,2],[1,2,3],...,[1,2,...,n]]```"
   ]
  },
  {
   "cell_type": "code",
   "execution_count": 8,
   "metadata": {},
   "outputs": [
    {
     "name": "stdout",
     "output_type": "stream",
     "text": [
      "[[1, 2, 3, 4, 5], [1, 2, 3, 4, 5], [1, 2, 3, 4, 5], [1, 2, 3, 4, 5], [1, 2, 3, 4, 5]]\n",
      "[[1], [1, 2], [1, 2, 3], [1, 2, 3, 4], [1, 2, 3, 4, 5]]\n"
     ]
    }
   ],
   "source": [
    "n = 5\n",
    "\n",
    "first_list = [[i for i in range(1, n + 1)] for _ in range(n)]\n",
    "print(first_list)\n",
    "second_list = [[i for i in range(1, j + 1)] for j in range(1, n + 1)]\n",
    "print(second_list)"
   ]
  },
  {
   "cell_type": "markdown",
   "metadata": {},
   "source": [
    "[1, 3, 5]\n",
    "возведи цисла в квадрат"
   ]
  },
  {
   "cell_type": "code",
   "execution_count": 6,
   "metadata": {},
   "outputs": [
    {
     "name": "stdout",
     "output_type": "stream",
     "text": [
      "[1, 9, 25]\n"
     ]
    }
   ],
   "source": [
    "original_list = [1, 3, 5]\n",
    "\n",
    "squared_list = [x ** 2 for x in original_list]\n",
    "\n",
    "print(squared_list)"
   ]
  },
  {
   "cell_type": "code",
   "execution_count": 7,
   "metadata": {},
   "outputs": [
    {
     "name": "stdout",
     "output_type": "stream",
     "text": [
      "[1, 9, 25]\n"
     ]
    }
   ],
   "source": [
    "original_list = [1, 3, 5]\n",
    "\n",
    "squared_list = list(map(lambda x: x ** 2, original_list))\n",
    "\n",
    "print(squared_list)"
   ]
  },
  {
   "cell_type": "markdown",
   "metadata": {},
   "source": [
    "есть слово\n",
    "нужно сгенироваться словарь, где буква это ключ, а значение это номер буквы в слове"
   ]
  },
  {
   "cell_type": "code",
   "execution_count": 10,
   "metadata": {},
   "outputs": [
    {
     "name": "stdout",
     "output_type": "stream",
     "text": [
      "{'p': 1, 'o': 2, 'l': 3, 'y': 4, 't': 5}\n"
     ]
    }
   ],
   "source": [
    "word = \"polyt\"\n",
    "\n",
    "letter_to_index = {letter: index for index, letter in enumerate(word, 1)}\n",
    "\n",
    "print(letter_to_index)"
   ]
  }
 ],
 "metadata": {
  "kernelspec": {
   "display_name": "Python 3",
   "language": "python",
   "name": "python3"
  },
  "language_info": {
   "codemirror_mode": {
    "name": "ipython",
    "version": 3
   },
   "file_extension": ".py",
   "mimetype": "text/x-python",
   "name": "python",
   "nbconvert_exporter": "python",
   "pygments_lexer": "ipython3",
   "version": "3.11.2"
  },
  "orig_nbformat": 4
 },
 "nbformat": 4,
 "nbformat_minor": 2
}
