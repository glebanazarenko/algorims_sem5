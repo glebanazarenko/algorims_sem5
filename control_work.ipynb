{
 "cells": [
  {
   "cell_type": "markdown",
   "metadata": {},
   "source": [
    "Создать класс, который принимает строку, состоящую из четного числа символов. При создании экземпляра класса происходит деление строки на 2 равные части. У экземпляра класса есть только 2 public атрибута: атрибут, выводящий число символов в одной строке, полученной после деления исходной строки на 2 части, и атрибут, сделанный из метода и выводящий кортеж, элементами которого являются 2 части разделенной строки. Также у экземпляра класса есть метод, который принимает в качестве параметра другой объект этого же класса и выводит список из двух строк, каждая равна склейке соответствующих элементов 2-х объектов (т.е. 1-я часть с 1-й частью, 2-я часть со 2-й частью). Также в классе реализовать статический метод, который принимает строку и возвращает модифицированную строку, в которой при наличие цифр, каждая цифра дублируется (т.е., например, 'qeg1jd5kju658a' -> 'qeg11jd55kju665588a'). Также реализовать метод класса, который принимает строку, но перед созданием экземпляра класса выбрасывает из строки все символы-цифры (т.е., например, 'qeg1jd5kju65' -> 'qegjdkju', для удобство можно считать число символов и цифр четным и не проверять это)."
   ]
  },
  {
   "cell_type": "code",
   "execution_count": 42,
   "metadata": {},
   "outputs": [
    {
     "name": "stdout",
     "output_type": "stream",
     "text": [
      "Строка должна содержать четное количество символов\n",
      "4\n",
      "('abc1', '3def')\n",
      "4\n",
      "('abcd', 'efgh')\n",
      "['abc1abcd', '3defefgh']\n",
      "qeg11jd55kju665588a\n"
     ]
    }
   ],
   "source": [
    "class StringProcessor:\n",
    "    def __init__(self, input_string: str):\n",
    "        assert len(input_string) % 2 == 0, \"Строка должна содержать четное количество символов\"\n",
    "        middle_index = len(input_string) // 2\n",
    "        self._first_part = input_string[:middle_index]\n",
    "        self._second_part = input_string[middle_index:]\n",
    "        self.parts = self._first_part, self._second_part\n",
    "        self.length_of_part = middle_index\n",
    "\n",
    "    def merge(self, other):\n",
    "        assert isinstance(other, StringProcessor), \"Объект должен быть экземпляром StringProcessor\"\n",
    "        return [self._first_part + other._first_part, self._second_part + other._second_part]\n",
    "\n",
    "    @staticmethod\n",
    "    def duplicate_digits(input_string: str):\n",
    "        return ''.join([char * 2 if char.isdigit() else char for char in input_string])\n",
    "\n",
    "    @classmethod\n",
    "    def remove_digits_and_create(cls, input_string: str):\n",
    "        cleaned_string = ''.join([char for char in input_string if not char.isdigit()])\n",
    "        return cls(cleaned_string)\n",
    "\n",
    "\n",
    "# Тестирование класса\n",
    "try:\n",
    "    s0 = StringProcessor(\"abc123def\")\n",
    "except AssertionError as e:\n",
    "    print(e) # Строка должна содержать четное количество символов\n",
    "\n",
    "s1 = StringProcessor(\"abc13def\")\n",
    "print(s1.length_of_part)  # 4\n",
    "print(s1.parts)  # ('abc1', '3def')\n",
    "\n",
    "s2 = StringProcessor.remove_digits_and_create(\"abcd1234efgh\")\n",
    "print(s2.length_of_part)  # 4\n",
    "print(s2.parts)  # ('abcd', 'efgh')\n",
    "\n",
    "merged_list = s1.merge(s2)\n",
    "print(merged_list)  # ['abc1abcde', '23defefgh']\n",
    "\n",
    "modified_string = StringProcessor.duplicate_digits(\"qeg1jd5kju658a\")\n",
    "print(modified_string)  # 'qeg11jd55kju665588a'"
   ]
  },
  {
   "cell_type": "markdown",
   "metadata": {},
   "source": [
    "На основе класса задачи №1 создать дочерний класс, который дополнительно принимает число n. У экземпляра такого класса появляется атрибут, который выводит строку, в которой каждый символ дублируется n раз (т.е. например, 'dfgy', 3 -> 'dddfffgggyyy'). Также есть метод, который принимает в качестве параметра другой объект этого же класса и выводит список из двух строк, равных посимвольной склейке соответствующих элементов 2-х объектов (1-й символ 1-й части с 1-м символом 1-й части, 2-й символ 1-й части с 2-м символом 1-й части, 3-й символ 1-й части с 3-м символом 1-й части, 4-й символ 1-й части с 4-м символом 1-й части, т.д. аналогично для второй части). "
   ]
  },
  {
   "cell_type": "code",
   "execution_count": 31,
   "metadata": {},
   "outputs": [
    {
     "name": "stdout",
     "output_type": "stream",
     "text": [
      "Строка должна содержать четное количество символов\n",
      "4\n",
      "('abcd', '1234')\n",
      "aaabbbcccddd111222333444\n",
      "3\n",
      "('ade', 'fgh')\n",
      "adefgh\n",
      "['aabdce', '1f2g3h']\n"
     ]
    }
   ],
   "source": [
    "class ExtendedStringProcessor(StringProcessor):\n",
    "    def __init__(self, input_string: str, n: int = 1):\n",
    "        super().__init__(input_string)\n",
    "        self.n = n\n",
    "        self.multiplied = self._multiply_string(input_string, n)\n",
    "\n",
    "    def _multiply_string(self, s: str, n: int) -> str:\n",
    "        return ''.join([char * n for char in s])\n",
    "\n",
    "    def merge_per_symbol(self, other):\n",
    "        assert isinstance(other, ExtendedStringProcessor), \"Объект должен быть экземпляром ExtendedStringProcessor\"\n",
    "        return [\n",
    "            ''.join([a + b for a, b in zip(self._first_part, other._first_part)]),\n",
    "            ''.join([a + b for a, b in zip(self._second_part, other._second_part)])\n",
    "        ]\n",
    "\n",
    "\n",
    "# Тестирование расширенного класса\n",
    "try:\n",
    "    es0 = ExtendedStringProcessor(\"abc123def\", 2)\n",
    "except AssertionError as e:\n",
    "    print(e) # Строка должна содержать четное количество символов\n",
    "\n",
    "es1 = ExtendedStringProcessor(\"abcd1234\", 3)\n",
    "print(es1.length_of_part)  # 4\n",
    "print(es1.parts)  # ('abcd', '1234')\n",
    "print(es1.multiplied)  # aaabbbcccddd111222333444\n",
    "\n",
    "es2 = ExtendedStringProcessor.remove_digits_and_create(\"a1d4efgh\")\n",
    "print(es2.length_of_part)  # 3\n",
    "print(es2.parts)  # ('ade', 'fgh')\n",
    "print(es2.multiplied)  # Так как мы не передаем n, он по умолчанию 1\n",
    "\n",
    "merged_list_per_symbol = es1.merge_per_symbol(es2)\n",
    "print(merged_list_per_symbol)  # ['aabdce', '1f2g3h']"
   ]
  },
  {
   "cell_type": "markdown",
   "metadata": {},
   "source": [
    "Создать класс Псевдографика, принимающий высоту и длину прямоугольника - числа символов '*'. Реализовать метод, который выводит на экран прямоугольник. Реализовать метод, который принимает число n и выводит масштабированный прямоугольник. Реализовать метод, который принимает число m и выводит m прямоугольников последовательно. "
   ]
  },
  {
   "cell_type": "code",
   "execution_count": 25,
   "metadata": {},
   "outputs": [
    {
     "name": "stdout",
     "output_type": "stream",
     "text": [
      "Оригинальный прямоугольник:\n",
      "*****\n",
      "*****\n",
      "*****\n",
      "\n",
      "Масштабированный прямоугольник:\n",
      "**********\n",
      "**********\n",
      "**********\n",
      "**********\n",
      "**********\n",
      "**********\n",
      "\n",
      "Последовательные прямоугольники:\n",
      "*****\n",
      "*****\n",
      "*****\n",
      "\n",
      "*****\n",
      "*****\n",
      "*****\n",
      "\n",
      "*****\n",
      "*****\n",
      "*****\n",
      "\n"
     ]
    }
   ],
   "source": [
    "class PseudoGraphics:\n",
    "    def __init__(self, height: int, width: int):\n",
    "        self.height = height\n",
    "        self.width = width\n",
    "        \n",
    "    def draw_rectangle(self):\n",
    "        for _ in range(self.height):\n",
    "            print('*' * self.width)\n",
    "    \n",
    "    def scale_rectangle(self, n: int):\n",
    "        for _ in range(self.height * n):\n",
    "            print('*' * (self.width * n))\n",
    "            \n",
    "    def draw_sequential_rectangles(self, m: int):\n",
    "        for _ in range(m):\n",
    "            self.draw_rectangle()\n",
    "            print()\n",
    "\n",
    "rectangle = PseudoGraphics(3, 5)\n",
    "\n",
    "print(\"Оригинальный прямоугольник:\")\n",
    "rectangle.draw_rectangle()\n",
    "\n",
    "print(\"\\nМасштабированный прямоугольник:\")\n",
    "rectangle.scale_rectangle(2)\n",
    "\n",
    "print(\"\\nПоследовательные прямоугольники:\")\n",
    "rectangle.draw_sequential_rectangles(3)"
   ]
  },
  {
   "cell_type": "markdown",
   "metadata": {},
   "source": [
    "Создать класс, принимающий значение года и числа дней от начала года. Число дней может быть любым целым, в том числе большим 365. Считаем, что число дней в каждом месяце равно 30.  Public атрибуты экземпляра класса - год, месяц, день. Реализовать метод, выводящий год, месяц, день следующего дня. Реализовать метод, который принимает число n и выводит год, месяц, день дня, отстоящего от текущего на n. Реализовать метод, который принимает дату и выводит число дней между введенной и указанной датами."
   ]
  },
  {
   "cell_type": "code",
   "execution_count": 32,
   "metadata": {},
   "outputs": [
    {
     "name": "stdout",
     "output_type": "stream",
     "text": [
      "2024 год, 1 месяц, 6 день\n",
      "2024 год, 1 месяц, 7 день\n",
      "2024 год, 2 месяц, 16 день\n",
      "40\n"
     ]
    }
   ],
   "source": [
    "class CustomDate:\n",
    "    DAYS_IN_MONTH = 30\n",
    "    MONTHS_IN_YEAR = 12\n",
    "\n",
    "    def __init__(self, year: int, days: int):\n",
    "        self.year = year + days // (self.DAYS_IN_MONTH * self.MONTHS_IN_YEAR)\n",
    "        remaining_days = days % (self.DAYS_IN_MONTH * self.MONTHS_IN_YEAR)\n",
    "        self.month = 1 + remaining_days // self.DAYS_IN_MONTH\n",
    "        self.day = 1 + remaining_days % self.DAYS_IN_MONTH\n",
    "\n",
    "    def __str__(self):\n",
    "        return f\"{self.year} год, {self.month} месяц, {self.day} день\"\n",
    "\n",
    "    def next_day(self):\n",
    "        new_day = self.day + 1\n",
    "        new_month = self.month\n",
    "        new_year = self.year\n",
    "        if new_day > self.DAYS_IN_MONTH:\n",
    "            new_day = 1\n",
    "            new_month += 1\n",
    "        if new_month > self.MONTHS_IN_YEAR:\n",
    "            new_month = 1\n",
    "            new_year += 1\n",
    "        return CustomDate(new_year, (new_month - 1) * self.DAYS_IN_MONTH + new_day - 1)\n",
    "\n",
    "    def add_days(self, n: int):\n",
    "        total_days = (self.month - 1) * self.DAYS_IN_MONTH + self.day - 1 + n\n",
    "        return CustomDate(self.year, total_days)\n",
    "\n",
    "    def days_between(self, other):\n",
    "        current_total_days = (self.year * self.MONTHS_IN_YEAR + (self.month - 1)) * self.DAYS_IN_MONTH + self.day\n",
    "        other_total_days = (other.year * self.MONTHS_IN_YEAR + (other.month - 1)) * self.DAYS_IN_MONTH + other.day\n",
    "        return abs(current_total_days - other_total_days)\n",
    "\n",
    "\n",
    "# Пример использования:\n",
    "date = CustomDate(2023, 365)\n",
    "print(date)  # 2023 год, 1 месяц, 5 день\n",
    "\n",
    "next_date = date.next_day()\n",
    "print(next_date)  # 2023 год, 1 месяц, 6 день\n",
    "\n",
    "future_date = date.add_days(40)\n",
    "print(future_date)  # 2023 год, 2 месяц, 15 день\n",
    "\n",
    "days_between = date.days_between(future_date)\n",
    "print(days_between)  # 40"
   ]
  }
 ],
 "metadata": {
  "kernelspec": {
   "display_name": "Python 3",
   "language": "python",
   "name": "python3"
  },
  "language_info": {
   "codemirror_mode": {
    "name": "ipython",
    "version": 3
   },
   "file_extension": ".py",
   "mimetype": "text/x-python",
   "name": "python",
   "nbconvert_exporter": "python",
   "pygments_lexer": "ipython3",
   "version": "3.11.2"
  },
  "orig_nbformat": 4
 },
 "nbformat": 4,
 "nbformat_minor": 2
}
