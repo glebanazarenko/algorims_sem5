{
 "cells": [
  {
   "cell_type": "markdown",
   "metadata": {},
   "source": [
    "Есть вложенные списки (5-6 списков из чисел). Попробуйте 2 способами найти максимальный элемент в списке."
   ]
  },
  {
   "cell_type": "code",
   "execution_count": 1,
   "metadata": {},
   "outputs": [
    {
     "name": "stdout",
     "output_type": "stream",
     "text": [
      "Максимальный элемент: 9\n"
     ]
    }
   ],
   "source": [
    "nested_lists = [\n",
    "    [1, 2, 3],\n",
    "    [4, 5, 6],\n",
    "    [7, 8, 9]\n",
    "]\n",
    "\n",
    "max_element = float('-inf')\n",
    "\n",
    "for sublist in nested_lists:\n",
    "    for number in sublist:\n",
    "        if number > max_element:\n",
    "            max_element = number\n",
    "\n",
    "print(\"Максимальный элемент:\", max_element)"
   ]
  },
  {
   "cell_type": "code",
   "execution_count": 2,
   "metadata": {},
   "outputs": [
    {
     "name": "stdout",
     "output_type": "stream",
     "text": [
      "Максимальный элемент: 9\n"
     ]
    }
   ],
   "source": [
    "nested_lists = [\n",
    "    [1, 2, 3],\n",
    "    [4, 5, 6],\n",
    "    [7, 8, 9]\n",
    "]\n",
    "\n",
    "flat_list = [number for sublist in nested_lists for number in sublist]\n",
    "\n",
    "max_element = max(flat_list)\n",
    "\n",
    "print(\"Максимальный элемент:\", max_element)"
   ]
  },
  {
   "cell_type": "markdown",
   "metadata": {},
   "source": [
    "Есть вложенный список. Нужно в каждом вложенным списке поменять местами первый и последний элемент"
   ]
  },
  {
   "cell_type": "code",
   "execution_count": 3,
   "metadata": {},
   "outputs": [
    {
     "name": "stdout",
     "output_type": "stream",
     "text": [
      "[[4, 2, 3, 1], [8, 6, 7, 5], [12, 10, 11, 9]]\n"
     ]
    }
   ],
   "source": [
    "nested_lists = [\n",
    "    [1, 2, 3, 4],\n",
    "    [5, 6, 7, 8],\n",
    "    [9, 10, 11, 12]\n",
    "]\n",
    "\n",
    "for sublist in nested_lists:\n",
    "    if len(sublist) >= 2:\n",
    "        sublist[0], sublist[-1] = sublist[-1], sublist[0]\n",
    "\n",
    "print(nested_lists)"
   ]
  },
  {
   "cell_type": "markdown",
   "metadata": {},
   "source": [
    "\n",
    "Найти отношения суммы всех элемент на число элементов во всем вложенном списке"
   ]
  },
  {
   "cell_type": "code",
   "execution_count": 7,
   "metadata": {},
   "outputs": [
    {
     "name": "stdout",
     "output_type": "stream",
     "text": [
      "Отношение суммы элементов к числу элементов: 0.8333333333333334\n",
      "Отношение суммы элементов к числу элементов: 2.1666666666666665\n",
      "Отношение суммы элементов к числу элементов: 3.5\n"
     ]
    }
   ],
   "source": [
    "nested_lists = [\n",
    "    [1, 2, 3, 4],\n",
    "    [5, 6, 7, 8],\n",
    "    [9, 10, 11, 12]\n",
    "]\n",
    "\n",
    "total_elements = sum(len(sublist) for sublist in nested_lists)\n",
    "\n",
    "for sublist in nested_lists:\n",
    "    ratio = sum(sublist) / total_elements\n",
    "    print(\"Отношение суммы элементов к числу элементов:\", ratio)"
   ]
  },
  {
   "cell_type": "markdown",
   "metadata": {},
   "source": [
    "есть список\n",
    "``[1,2,[3,4,[5,6],5],4,3]``\n",
    "превратить\n",
    "``[1,2,[3,4,[5,6, 70],5],4,3]``\n",
    "потом\n",
    "``[1,2,[3,4,[5,6, 70],60,5],4,3]``\n",
    "потом\n",
    "``[1,2,[3,4,[5,6, 70, 80, 90, 100],60,5],4,3]``\n",
    "выводить результат на каждом этапе"
   ]
  },
  {
   "cell_type": "code",
   "execution_count": 5,
   "metadata": {},
   "outputs": [
    {
     "name": "stdout",
     "output_type": "stream",
     "text": [
      "[1, 2, [3, 4, [5, 6, 70], 5], 4, 3]\n",
      "[1, 2, [3, 4, [5, 6, 70], 60, 5], 4, 3]\n",
      "[1, 2, [3, 4, [5, 6, 70, 80, 90, 100], 60, 5], 4, 3]\n"
     ]
    }
   ],
   "source": [
    "my_list = [1, 2, [3, 4, [5, 6], 5], 4, 3]\n",
    "my_list[2][2].append(70)\n",
    "print(my_list)\n",
    "my_list[2].insert(3, 60)\n",
    "print(my_list)\n",
    "my_list[2][2].extend([80, 90, 100])\n",
    "print(my_list)"
   ]
  },
  {
   "cell_type": "markdown",
   "metadata": {},
   "source": [
    "Напишите программу, которая создает и выводит построчно список\n",
    "```[[1,2,...,n], [1,2,...,n], ..., [1,2,...,n]]```\n",
    "```[[1],[1,2],[1,2,3],...,[1,2,...,n]]```"
   ]
  },
  {
   "cell_type": "code",
   "execution_count": 8,
   "metadata": {},
   "outputs": [
    {
     "name": "stdout",
     "output_type": "stream",
     "text": [
      "[[1, 2, 3, 4, 5], [1, 2, 3, 4, 5], [1, 2, 3, 4, 5], [1, 2, 3, 4, 5], [1, 2, 3, 4, 5]]\n",
      "[[1], [1, 2], [1, 2, 3], [1, 2, 3, 4], [1, 2, 3, 4, 5]]\n"
     ]
    }
   ],
   "source": [
    "n = 5\n",
    "\n",
    "first_list = [[i for i in range(1, n + 1)] for _ in range(n)]\n",
    "print(first_list)\n",
    "second_list = [[i for i in range(1, j + 1)] for j in range(1, n + 1)]\n",
    "print(second_list)"
   ]
  },
  {
   "cell_type": "markdown",
   "metadata": {},
   "source": [
    "[1, 3, 5]\n",
    "возведи цисла в квадрат"
   ]
  },
  {
   "cell_type": "code",
   "execution_count": 6,
   "metadata": {},
   "outputs": [
    {
     "name": "stdout",
     "output_type": "stream",
     "text": [
      "[1, 9, 25]\n"
     ]
    }
   ],
   "source": [
    "original_list = [1, 3, 5]\n",
    "\n",
    "squared_list = [x ** 2 for x in original_list]\n",
    "\n",
    "print(squared_list)"
   ]
  },
  {
   "cell_type": "code",
   "execution_count": 7,
   "metadata": {},
   "outputs": [
    {
     "name": "stdout",
     "output_type": "stream",
     "text": [
      "[1, 9, 25]\n"
     ]
    }
   ],
   "source": [
    "original_list = [1, 3, 5]\n",
    "\n",
    "squared_list = list(map(lambda x: x ** 2, original_list))\n",
    "\n",
    "print(squared_list)"
   ]
  },
  {
   "cell_type": "markdown",
   "metadata": {},
   "source": [
    "есть слово\n",
    "нужно сгенироваться словарь, где буква это ключ, а значение это номер буквы в слове"
   ]
  },
  {
   "cell_type": "code",
   "execution_count": 10,
   "metadata": {},
   "outputs": [
    {
     "name": "stdout",
     "output_type": "stream",
     "text": [
      "{'p': 1, 'o': 2, 'l': 3, 'y': 4, 't': 5}\n"
     ]
    }
   ],
   "source": [
    "word = \"polyt\"\n",
    "\n",
    "letter_to_index = {letter: index for index, letter in enumerate(word, 1)}\n",
    "\n",
    "print(letter_to_index)"
   ]
  },
  {
   "cell_type": "markdown",
   "metadata": {},
   "source": [
    "Есть слово.\n",
    "Пусть ключами будут буквы.\n",
    "а значения будут списки, длина которых равно индексу и значения там из индекса"
   ]
  },
  {
   "cell_type": "code",
   "execution_count": 3,
   "metadata": {},
   "outputs": [
    {
     "name": "stdout",
     "output_type": "stream",
     "text": [
      "{'p': [], 'o': [1], 'l': [2, 2], 'y': [3, 3, 3], 't': [4, 4, 4, 4]}\n"
     ]
    }
   ],
   "source": [
    "word = \"polyt\" \n",
    "\n",
    "letter_to_lists = {letter: [index] * index for index, letter in enumerate(word, 0)}\n",
    "\n",
    "print(letter_to_lists)"
   ]
  },
  {
   "cell_type": "markdown",
   "metadata": {},
   "source": [
    "# Псевдографика"
   ]
  },
  {
   "cell_type": "markdown",
   "metadata": {},
   "source": [
    "Пирамидка"
   ]
  },
  {
   "cell_type": "code",
   "execution_count": 4,
   "metadata": {},
   "outputs": [
    {
     "name": "stdout",
     "output_type": "stream",
     "text": [
      "          \n",
      "         *\n",
      "        ***\n",
      "       *****\n",
      "      *******\n",
      "     *********\n",
      "    ***********\n",
      "   *************\n",
      "  ***************\n",
      " *****************\n"
     ]
    }
   ],
   "source": [
    "n = 10 \n",
    "\n",
    "for i in range(0, n):\n",
    "    spaces = ' ' * (n - i)\n",
    "    stars = '*' * (2 * i - 1)\n",
    "    print(spaces + stars)"
   ]
  },
  {
   "cell_type": "markdown",
   "metadata": {},
   "source": [
    "Заполненный квадрат"
   ]
  },
  {
   "cell_type": "code",
   "execution_count": 9,
   "metadata": {},
   "outputs": [
    {
     "name": "stdout",
     "output_type": "stream",
     "text": [
      "******************************\n",
      "******************************\n",
      "******************************\n",
      "******************************\n",
      "******************************\n",
      "******************************\n",
      "******************************\n",
      "******************************\n"
     ]
    }
   ],
   "source": [
    "h = 8\n",
    "w = 30\n",
    "c = \"*\"\n",
    "for i in range(h):\n",
    "    print(c * w)"
   ]
  },
  {
   "cell_type": "markdown",
   "metadata": {},
   "source": [
    "незаполненный квадрат"
   ]
  },
  {
   "cell_type": "code",
   "execution_count": 24,
   "metadata": {},
   "outputs": [
    {
     "name": "stdout",
     "output_type": "stream",
     "text": [
      "██████████████████████████████\n",
      "█                            █\n",
      "█                            █\n",
      "█                            █\n",
      "█                            █\n",
      "█                            █\n",
      "█                            █\n",
      "██████████████████████████████\n"
     ]
    }
   ],
   "source": [
    "h = 8\n",
    "w = 30\n",
    "c = \"█\"\n",
    "for r in range(h):\n",
    "    if r == 0 or r == h - 1:\n",
    "        print(c * w)\n",
    "    else:\n",
    "        print(c + ' ' * (w - 2) + c)"
   ]
  },
  {
   "cell_type": "markdown",
   "metadata": {},
   "source": [
    "Елочка"
   ]
  },
  {
   "cell_type": "code",
   "execution_count": 23,
   "metadata": {},
   "outputs": [
    {
     "name": "stdout",
     "output_type": "stream",
     "text": [
      "    *\n",
      "   ***\n",
      "  *****\n",
      " *******\n",
      "*********\n",
      "    *\n",
      "   ***\n",
      "  *****\n",
      " *******\n",
      "*********\n",
      "    *\n",
      "   ***\n",
      "  *****\n",
      " *******\n",
      "*********\n",
      "   ***\n",
      "   ***\n"
     ]
    }
   ],
   "source": [
    "n = 5\n",
    "k = 3\n",
    "\n",
    "for j in range(k):\n",
    "    for i in range(1, n + 1):\n",
    "        spaces = ' ' * (n - i)\n",
    "        stars = '*' * (2 * i - 1)\n",
    "        print(spaces + stars)\n",
    "\n",
    "for i in range(2):\n",
    "    trunk_spaces = ' ' * (n - 2)\n",
    "    trunk = '*' * 3\n",
    "    print(trunk_spaces + trunk)\n"
   ]
  },
  {
   "cell_type": "markdown",
   "metadata": {},
   "source": [
    "# Кортеж"
   ]
  },
  {
   "cell_type": "markdown",
   "metadata": {},
   "source": [
    "есть кортеж, состоящий из 4 элементов\n",
    "сформировать словарь, ключ - первое значение кортежа\n",
    "значение - кортеж, содержащий только четные числа из кортежа"
   ]
  },
  {
   "cell_type": "code",
   "execution_count": 25,
   "metadata": {},
   "outputs": [
    {
     "name": "stdout",
     "output_type": "stream",
     "text": [
      "{3: (8, 12)}\n"
     ]
    }
   ],
   "source": [
    "my_tuple = (3, 8, 12, 17)\n",
    "even_values = tuple(x for x in my_tuple if x % 2 == 0)\n",
    "my_dict = {my_tuple[0]: even_values}\n",
    "print(my_dict)"
   ]
  },
  {
   "cell_type": "markdown",
   "metadata": {},
   "source": [
    "кортеж из слов и цифр\n",
    "ключ - двухзначные числа, которые есть в кортеже (остальное пропускаем)\n",
    "значения - произведение этих двух цифре в двухзначном числе"
   ]
  },
  {
   "cell_type": "code",
   "execution_count": 26,
   "metadata": {},
   "outputs": [
    {
     "name": "stdout",
     "output_type": "stream",
     "text": [
      "{23: 6, 12: 2, 45: 20, 34: 12}\n"
     ]
    }
   ],
   "source": [
    "my_tuple = (\"apple\", 23, \"banana\", 12, \"cherry\", 45, \"date\", 34, 5, 100)\n",
    "my_dict = {}\n",
    "\n",
    "for item in my_tuple:\n",
    "    if isinstance(item, int) and 10 <= item <= 99:\n",
    "        num_str = str(item)\n",
    "        digit1 = int(num_str[0])\n",
    "        digit2 = int(num_str[1])\n",
    "        key = item\n",
    "        value = digit1 * digit2\n",
    "        my_dict[key] = value\n",
    "\n",
    "print(my_dict)"
   ]
  },
  {
   "cell_type": "markdown",
   "metadata": {},
   "source": [
    "картеж: фамилия(или имя), рост (в метрах), масса (кг)\n",
    "\n",
    "сделать словарь\n",
    "ключ это фамилия или имя\n",
    "значение это идекс массы тела"
   ]
  },
  {
   "cell_type": "code",
   "execution_count": 27,
   "metadata": {},
   "outputs": [
    {
     "name": "stdout",
     "output_type": "stream",
     "text": [
      "{'Иванов': 24.489795918367346, 'Петров': 25.30864197530864, 'Сидоров': 24.977043158861342, 'Смирнов': 24.221453287197235}\n"
     ]
    }
   ],
   "source": [
    "people = [(\"Иванов\", 1.75, 75), \n",
    "          (\"Петров\", 1.80, 82), \n",
    "          (\"Сидоров\", 1.65, 68), \n",
    "          (\"Смирнов\", 1.70, 70)]\n",
    "bmi_dict = {}\n",
    "\n",
    "for person in people:\n",
    "    name = person[0] \n",
    "    height = person[1]\n",
    "    weight = person[2]\n",
    "    bmi = weight / (height ** 2)\n",
    "    bmi_dict[name] = bmi\n",
    "print(bmi_dict)\n"
   ]
  },
  {
   "cell_type": "markdown",
   "metadata": {},
   "source": [
    "рост макс 2,5 м\n",
    "вес мин 5 кг"
   ]
  },
  {
   "cell_type": "code",
   "execution_count": null,
   "metadata": {},
   "outputs": [],
   "source": [
    "data = [(\"Иванов\", 1.75, 75),\n",
    "        (\"Петров\", 1.80, 82),\n",
    "        (\"Сидоров\", 2.55, 68),\n",
    "        (\"Смирнов\", 1.70, 70),\n",
    "        (\"Козлов\", 1.65, 4.5)]\n",
    "\n",
    "bmi_dict = {}  # Создаем пустой словарь\n",
    "\n",
    "for person in data:\n",
    "    name = person[0]  # Фамилия или имя\n",
    "    height = max(1.0, min(person[1], 2.5))  # Устанавливаем ограничения по росту\n",
    "    weight = max(5.0, min(person[2], float('inf')))  # Устанавливаем ограничения по весу\n",
    "    bmi = weight / (height ** 2)  # Рассчитываем ИМТ\n",
    "    bmi_dict[name] = bmi  # Добавляем запись в словарь\n",
    "\n",
    "print(bmi_dict)\n"
   ]
  }
 ],
 "metadata": {
  "kernelspec": {
   "display_name": "Python 3",
   "language": "python",
   "name": "python3"
  },
  "language_info": {
   "codemirror_mode": {
    "name": "ipython",
    "version": 3
   },
   "file_extension": ".py",
   "mimetype": "text/x-python",
   "name": "python",
   "nbconvert_exporter": "python",
   "pygments_lexer": "ipython3",
   "version": "3.11.2"
  },
  "orig_nbformat": 4
 },
 "nbformat": 4,
 "nbformat_minor": 2
}
