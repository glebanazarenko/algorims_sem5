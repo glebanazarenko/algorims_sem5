{
 "cells": [
  {
   "cell_type": "markdown",
   "metadata": {},
   "source": [
    "Есть список, содержащий произвольное число слов. Каждое слово может иметь любое число символов. Не применяя циклы к словам (к буквам отдельных слов циклы применять можно), реализуйте следующие действия. Отбросьте слова, имеющие число символов меньше 5 или больше 8, или четвертую букву \"a\". Затем у оставшихся слов отбросьте 2 первых и 2 последних буквы. Дублируйте буквы в полученных словах, где число букв-дубликатов соответствует длине слова по правилу abc->aaabbbccc, ab->aabb, a->a. Далее получите слово, которое получено путем прибавления к первому слову первых букв остальных слов."
   ]
  },
  {
   "cell_type": "code",
   "execution_count": 1,
   "metadata": {},
   "outputs": [
    {
     "name": "stdout",
     "output_type": "stream",
     "text": [
      "['example', 'brave', 'plain', 'operate']\n",
      "['amp', 'a', 'a', 'era']\n",
      "['aaammmppp', 'a', 'a', 'eeerrraaa']\n",
      "aaammmpppaae\n"
     ]
    }
   ],
   "source": [
    "from functools import reduce\n",
    "\n",
    "words = [\"example\", \"extraction\", \"abcd\", \"brave\", \"plain\", \"operate\", 'braae']\n",
    "\n",
    "def filter_word(word):\n",
    "    return 5 <= len(word) <= 8 and (len(word) < 4 or word[3] != 'a')\n",
    "\n",
    "def combine_lists(accumulated, current_word):\n",
    "    if filter_word(current_word):\n",
    "        accumulated.append(current_word)\n",
    "    return accumulated\n",
    "\n",
    "filtered_words = reduce(combine_lists, words, [])\n",
    "print(filtered_words)\n",
    "\n",
    "cut_words = [word[2:-2] for word in filtered_words]\n",
    "print(cut_words)\n",
    "\n",
    "duplicated_words = [''.join([char * len(word) for char in word]) for word in cut_words]\n",
    "print(duplicated_words)\n",
    "\n",
    "result = duplicated_words[0] + ''.join([word[0] for word in duplicated_words[1:]])\n",
    "\n",
    "print(result)"
   ]
  },
  {
   "cell_type": "markdown",
   "metadata": {},
   "source": [
    "Используя замыкания и каррирование функции, реализуйте функцию: y(a,b,c,d,x)=a*x^3+b*x^2+c*x+d. Найдите у(4), у(3), у(-3) при а=5, b=3, c=-4, d=5. "
   ]
  },
  {
   "cell_type": "code",
   "execution_count": 20,
   "metadata": {},
   "outputs": [
    {
     "name": "stdout",
     "output_type": "stream",
     "text": [
      "357 155 -91\n"
     ]
    }
   ],
   "source": [
    "def y(a):\n",
    "    def with_b(b):\n",
    "        def with_c(c):\n",
    "            def with_d(d):\n",
    "                def with_x(x):\n",
    "                    return a*x**3 + b*x**2 + c*x + d\n",
    "                return with_x\n",
    "            return with_d\n",
    "        return with_c\n",
    "    return with_b\n",
    "\n",
    "func = y(5)(3)(-4)(5)\n",
    "\n",
    "y_4 = func(4)\n",
    "y_3 = func(3)\n",
    "y_neg_3 = func(-3)\n",
    "\n",
    "print(y_4, y_3, y_neg_3)"
   ]
  },
  {
   "cell_type": "markdown",
   "metadata": {},
   "source": [
    "Есть фигуры: треугольник, прямоугольник, пятиугольник, шестиугольник. Есть функции вычисления показателя, равного: для треугольника - периметр, для прямоугольника - площадь, для пятиугольника - полупериметр, для шестиугольника - полупериметр, если он больше 40, иначе периметр. С клавиатуры вводится строка, представляющая собой числа, разделённые “/”. Число чисел соответствует длинам сторон фигур. Вычислить параметр фигуры. Не использовать if (кроме расчета параметра шестиугольника)."
   ]
  },
  {
   "cell_type": "code",
   "execution_count": 21,
   "metadata": {},
   "outputs": [
    {
     "name": "stdout",
     "output_type": "stream",
     "text": [
      "Параметр фигуры: 20.0\n"
     ]
    }
   ],
   "source": [
    "def triangle_perimeter(sides):\n",
    "    return sum(sides)\n",
    "\n",
    "def rectangle_area(sides):\n",
    "    return sides[0] * sides[1]\n",
    "\n",
    "def pentagon_half_perimeter(sides):\n",
    "    return sum(sides) / 2\n",
    "\n",
    "def hexagon_param(sides):\n",
    "    half_perimeter = sum(sides) / 2\n",
    "    return half_perimeter if half_perimeter > 40 else sum(sides)\n",
    "\n",
    "shape_funcs = {\n",
    "    3: triangle_perimeter,\n",
    "    4: rectangle_area,\n",
    "    5: pentagon_half_perimeter,\n",
    "    6: hexagon_param\n",
    "}\n",
    "\n",
    "input_str = input(\"Введите числа, разделенные '/': \")\n",
    "sides = list(map(float, input_str.split('/')))\n",
    "parameter = shape_funcs[len(sides)](sides)\n",
    "print(\"Параметр фигуры:\", parameter)"
   ]
  },
  {
   "cell_type": "markdown",
   "metadata": {},
   "source": [
    "Создайте частично определённую функцию произвольно взятой стандартной функции.\n",
    "def и лямбда не используются"
   ]
  },
  {
   "cell_type": "code",
   "execution_count": 4,
   "metadata": {},
   "outputs": [
    {
     "data": {
      "text/plain": [
       "['apple', 'banana', 'cherry']"
      ]
     },
     "execution_count": 4,
     "metadata": {},
     "output_type": "execute_result"
    }
   ],
   "source": [
    "from functools import partial\n",
    "\n",
    "split_by_comma = partial(str.split, sep=',')\n",
    "\n",
    "string = \"apple,banana,cherry\"\n",
    "result = split_by_comma(string)\n",
    "result"
   ]
  },
  {
   "cell_type": "markdown",
   "metadata": {},
   "source": [
    "Создайте декоратор для проверки типа значения, возвращаемого функцией. Выводится тип значения, возвращаемого функцией."
   ]
  },
  {
   "cell_type": "code",
   "execution_count": 1,
   "metadata": {},
   "outputs": [
    {
     "name": "stdout",
     "output_type": "stream",
     "text": [
      "Функция 'get_hello' возращает тип str\n",
      "Функция 'get_numbers' возращает тип list\n"
     ]
    }
   ],
   "source": [
    "def check_return_type(func):\n",
    "    def wrapper(*args, **kwargs):\n",
    "        result = func(*args, **kwargs)\n",
    "        print(f\"Функция '{func.__name__}' возращает тип {type(result).__name__}\")\n",
    "    return wrapper\n",
    "\n",
    "@check_return_type\n",
    "def get_hello():\n",
    "    return \"Hello, World!\"\n",
    "\n",
    "@check_return_type\n",
    "def get_numbers():\n",
    "    return [1, 2, 3]\n",
    "\n",
    "get_hello()\n",
    "get_numbers()"
   ]
  }
 ],
 "metadata": {
  "kernelspec": {
   "display_name": "Python 3",
   "language": "python",
   "name": "python3"
  },
  "language_info": {
   "codemirror_mode": {
    "name": "ipython",
    "version": 3
   },
   "file_extension": ".py",
   "mimetype": "text/x-python",
   "name": "python",
   "nbconvert_exporter": "python",
   "pygments_lexer": "ipython3",
   "version": "3.11.2"
  }
 },
 "nbformat": 4,
 "nbformat_minor": 2
}
